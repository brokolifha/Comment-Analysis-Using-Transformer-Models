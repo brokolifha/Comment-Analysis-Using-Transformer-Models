{
 "cells": [
  {
   "cell_type": "code",
   "id": "initial_id",
   "metadata": {
    "collapsed": true,
    "ExecuteTime": {
     "end_time": "2025-01-02T15:52:14.148100Z",
     "start_time": "2025-01-02T15:52:13.610835Z"
    }
   },
   "source": [
    "import pandas as pd\n",
    "\n",
    "# CSV dosyasını yükle\n",
    "file_path = \"All_Scrapping_Corrected_Sentiment_Labels.csv\"  # Dosyanın tam yolunu buraya yazın\n",
    "data = pd.read_csv(file_path)\n",
    "\n",
    "# Etiket dağılımını hesapla\n",
    "label_distribution = data['Duygu Etiketi'].value_counts() # value_counts fonksiyonu ile değerleri bulup sayıp bunları yazdırıyor. Veri tiplerini de içeriyor.\n",
    "\n",
    "# Sonuçları yazdır\n",
    "print(\"Etiket Dağılımı:\")\n",
    "print(label_distribution)\n"
   ],
   "outputs": [
    {
     "name": "stdout",
     "output_type": "stream",
     "text": [
      "Etiket Dağılımı:\n",
      "Duygu Etiketi\n",
      "negative    3026\n",
      "positive    2854\n",
      "Name: count, dtype: int64\n"
     ]
    }
   ],
   "execution_count": 1
  },
  {
   "metadata": {},
   "cell_type": "code",
   "outputs": [],
   "execution_count": null,
   "source": "",
   "id": "62cb13905c480a90"
  }
 ],
 "metadata": {
  "kernelspec": {
   "display_name": "Python 3",
   "language": "python",
   "name": "python3"
  },
  "language_info": {
   "codemirror_mode": {
    "name": "ipython",
    "version": 2
   },
   "file_extension": ".py",
   "mimetype": "text/x-python",
   "name": "python",
   "nbconvert_exporter": "python",
   "pygments_lexer": "ipython2",
   "version": "2.7.6"
  }
 },
 "nbformat": 4,
 "nbformat_minor": 5
}
