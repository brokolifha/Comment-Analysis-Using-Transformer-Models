{
 "cells": [
  {
   "cell_type": "code",
   "id": "initial_id",
   "metadata": {
    "collapsed": true
   },
   "source": [
    "from transformers import pipeline\n",
    "import pandas as pd\n",
    "import torch\n",
    "\n",
    "# CSV dosyasını yükle\n",
    "file_path = \"All_Scrapping_Cleaned_Tokenized_StopWord_lemmatized.csv\"\n",
    "data = pd.read_csv(file_path)\n",
    "\n",
    "# Geçerli (dolu) yorumları filtrele\n",
    "yorumlar = data['Yorum Temiz'].dropna().tolist()\n",
    "\n",
    "# Token sınırını kontrol etmek ve gerekirse kırpmak için bir yardımcı fonksiyon\n",
    "def truncate_text(text, max_length=512):\n",
    "    return text[:max_length]\n",
    "\n",
    "yorumlar = [truncate_text(yorum) for yorum in yorumlar]\n",
    "\n",
    "# GPU kontrolü ve modeli yükle\n",
    "device = 0 if torch.cuda.is_available() else -1  # GPU kullanılabilir ise 0, değilse -1\n",
    "print(f\"Model şu cihazda çalışacak: {'GPU' if device == 0 else 'CPU'}\")\n",
    "\n",
    "# Türkçe duygu analizi için modeli yükle\n",
    "sentiment_analyzer = pipeline(\"sentiment-analysis\", model=\"savasy/bert-base-turkish-sentiment-cased\", device=device) #Türçe duygu analizi yapmak için ekledik\n",
    "\n",
    "# Duygu analizi yap\n",
    "etiketler = sentiment_analyzer(yorumlar)#yorumları kullanarak duygu analizi yapıldı\n",
    "\n",
    "# Analiz edilen yorumları ve etiketlerini birleştir. Etiketler 1 veya 0 olarak gerçekleştirildi.\n",
    "data_filtered = data.dropna(subset=['Yorum Temiz']).reset_index(drop=True)\n",
    "data_filtered['Duygu Etiketi'] = [result['label'] for result in etiketler]\n",
    "\n",
    "# Sonuçları yeni bir csv dosyasına kaydetti.\n",
    "output_path = \"All_Scrapping_with_Sentiment_Labels_Truncated2.csv\"\n",
    "data_filtered.to_csv(output_path, index=False)\n",
    "print(f\"Duygu analizi sonuçları kaydedildi: {output_path}\")\n"
   ],
   "outputs": [],
   "execution_count": null
  },
  {
   "metadata": {},
   "cell_type": "code",
   "outputs": [],
   "execution_count": null,
   "source": "",
   "id": "ade0fc52b4354df6"
  }
 ],
 "metadata": {
  "kernelspec": {
   "display_name": "Python 3",
   "language": "python",
   "name": "python3"
  },
  "language_info": {
   "codemirror_mode": {
    "name": "ipython",
    "version": 2
   },
   "file_extension": ".py",
   "mimetype": "text/x-python",
   "name": "python",
   "nbconvert_exporter": "python",
   "pygments_lexer": "ipython2",
   "version": "2.7.6"
  }
 },
 "nbformat": 4,
 "nbformat_minor": 5
}
